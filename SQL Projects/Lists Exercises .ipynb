{
 "cells": [
  {
   "cell_type": "markdown",
   "metadata": {},
   "source": [
    "# Python Lists Exercises "
   ]
  },
  {
   "cell_type": "code",
   "execution_count": 1,
   "metadata": {},
   "outputs": [
    {
     "data": {
      "text/plain": [
       "('Ulrich', 'Archana', 'Gamze', 'Eliza', 'Sanjana', 'Hamse')"
      ]
     },
     "execution_count": 1,
     "metadata": {},
     "output_type": "execute_result"
    }
   ],
   "source": [
    "#Q1 Create a tuple with all participant names in the JDA program\n",
    "team4 = ('Ulrich', 'Archana', 'Gamze', 'Eliza', 'Sanjana', 'Hamse')\n",
    "team4"
   ]
  },
  {
   "cell_type": "code",
   "execution_count": 2,
   "metadata": {},
   "outputs": [
    {
     "data": {
      "text/plain": [
       "['Ulrich', 'Archana', 'Gamze', 'Eliza', 'Sanjana', 'Hamse']"
      ]
     },
     "execution_count": 2,
     "metadata": {},
     "output_type": "execute_result"
    }
   ],
   "source": [
    "#Q2 Convert the tuple into a list called pps_L\n",
    "list4 = list(team4)\n",
    "list4"
   ]
  },
  {
   "cell_type": "code",
   "execution_count": 3,
   "metadata": {},
   "outputs": [
    {
     "data": {
      "text/plain": [
       "6"
      ]
     },
     "execution_count": 3,
     "metadata": {},
     "output_type": "execute_result"
    }
   ],
   "source": [
    "#Q3 What is the length of your list \n",
    "length4 = len(list4)\n",
    "length4"
   ]
  },
  {
   "cell_type": "code",
   "execution_count": 5,
   "metadata": {},
   "outputs": [
    {
     "data": {
      "text/plain": [
       "('Eliza', 'Hamse')"
      ]
     },
     "execution_count": 5,
     "metadata": {},
     "output_type": "execute_result"
    }
   ],
   "source": [
    "#Q4 Find the values stored in indexes [3],[5],[14],[30],[38]\n",
    "list4[3], list4[5]"
   ]
  },
  {
   "cell_type": "code",
   "execution_count": 9,
   "metadata": {},
   "outputs": [
    {
     "data": {
      "text/plain": [
       "False"
      ]
     },
     "execution_count": 9,
     "metadata": {},
     "output_type": "execute_result"
    }
   ],
   "source": [
    "#Q5 Check if \"Sarah\" is in the list\n",
    "\"Sarah\" in list4"
   ]
  },
  {
   "cell_type": "code",
   "execution_count": 10,
   "metadata": {},
   "outputs": [
    {
     "data": {
      "text/plain": [
       "['Ulrich', 'Archana', 'Gamze', 'Eliza', 'Sanjana', 'Hamse', 'Sarah']"
      ]
     },
     "execution_count": 10,
     "metadata": {},
     "output_type": "execute_result"
    }
   ],
   "source": [
    "#Q6 Add \"Sarah\" to your list\n",
    "list4.append('Sarah')\n",
    "list4"
   ]
  },
  {
   "cell_type": "code",
   "execution_count": 11,
   "metadata": {},
   "outputs": [
    {
     "data": {
      "text/plain": [
       "False"
      ]
     },
     "execution_count": 11,
     "metadata": {},
     "output_type": "execute_result"
    }
   ],
   "source": [
    "#Q7 Check if \"Bashir\" is in the list\n",
    "\"Bashir\" in list4"
   ]
  },
  {
   "cell_type": "code",
   "execution_count": 12,
   "metadata": {},
   "outputs": [
    {
     "data": {
      "text/plain": [
       "['Ulrich', 'Archana', 'Gamze', 'Eliza', 'Sanjana', 'Hamse', 'Sarah', 'Bashir']"
      ]
     },
     "execution_count": 12,
     "metadata": {},
     "output_type": "execute_result"
    }
   ],
   "source": [
    "#Q9 Add \"Bashir\" to your list\n",
    "list4.extend([\"Bashir\"])\n",
    "list4"
   ]
  },
  {
   "cell_type": "code",
   "execution_count": 13,
   "metadata": {},
   "outputs": [
    {
     "data": {
      "text/plain": [
       "6"
      ]
     },
     "execution_count": 13,
     "metadata": {},
     "output_type": "execute_result"
    }
   ],
   "source": [
    "#Q10 Find the index of the element \"Sarah\" in the list\n",
    "indexof_Sarah = list4.index(\"Sarah\")\n",
    "indexof_Sarah"
   ]
  },
  {
   "cell_type": "code",
   "execution_count": 14,
   "metadata": {},
   "outputs": [
    {
     "data": {
      "text/plain": [
       "['Ulrich',\n",
       " 'Archana',\n",
       " 'Gamze',\n",
       " 'Eliza',\n",
       " 'Sanjana',\n",
       " 'Hamse',\n",
       " 'Instructor',\n",
       " 'Bashir']"
      ]
     },
     "execution_count": 14,
     "metadata": {},
     "output_type": "execute_result"
    }
   ],
   "source": [
    "#Q11 Change the value of the index in Q10 from \"Sarah\" to \"Instructor\"\n",
    "list4[indexof_Sarah] = \"Instructor\"\n",
    "list4"
   ]
  },
  {
   "cell_type": "code",
   "execution_count": 16,
   "metadata": {},
   "outputs": [
    {
     "data": {
      "text/plain": [
       "7"
      ]
     },
     "execution_count": 16,
     "metadata": {},
     "output_type": "execute_result"
    }
   ],
   "source": [
    "#Q12 Find the index of the element \"Bashir\" in the list\n",
    "indexof_Bachir = list4.index(\"Bashir\")\n",
    "indexof_Bachir"
   ]
  },
  {
   "cell_type": "code",
   "execution_count": 17,
   "metadata": {},
   "outputs": [
    {
     "data": {
      "text/plain": [
       "['Ulrich',\n",
       " 'Archana',\n",
       " 'Gamze',\n",
       " 'Eliza',\n",
       " 'Sanjana',\n",
       " 'Hamse',\n",
       " 'Instructor',\n",
       " 'Peer-Mentor']"
      ]
     },
     "execution_count": 17,
     "metadata": {},
     "output_type": "execute_result"
    }
   ],
   "source": [
    "#Q13 Change the value of the index in Q12 from \"Bashir\" to \"Peer-Mentor\"\n",
    "list4[indexof_Bachir] = \"Peer-Mentor\"\n",
    "list4"
   ]
  }
 ],
 "metadata": {
  "kernelspec": {
   "display_name": "Python 3",
   "language": "python",
   "name": "python3"
  },
  "language_info": {
   "codemirror_mode": {
    "name": "ipython",
    "version": 3
   },
   "file_extension": ".py",
   "mimetype": "text/x-python",
   "name": "python",
   "nbconvert_exporter": "python",
   "pygments_lexer": "ipython3",
   "version": "3.6.8"
  }
 },
 "nbformat": 4,
 "nbformat_minor": 4
}
